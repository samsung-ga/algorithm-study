{
 "cells": [
  {
   "cell_type": "code",
   "execution_count": 13,
   "metadata": {
    "scrolled": false
   },
   "outputs": [
    {
     "name": "stdout",
     "output_type": "stream",
     "text": [
      "10 500\n",
      "93 181 245 214 315 36 185 138 216 295\n",
      "497\n"
     ]
    }
   ],
   "source": [
    "# 5 21\n",
    "# 5 6 7 8 9\n",
    "\n",
    "# 10 500\n",
    "# 93 181 245 214 315 36 185 138 216 295\n",
    "\n",
    "n, m = map(int,input().split())\n",
    "num_list = list(map(int, input().split()))\n",
    "\n",
    "sum = 0\n",
    "max_sum = 0\n",
    "for i in range(0, n):\n",
    "    for j in range(i+1, n):\n",
    "        for k in range(j+1, n):\n",
    "            sum = num_list[i] + num_list[j] + num_list[k]\n",
    "            if sum <= m:\n",
    "                max_sum = max(sum, max_sum)\n",
    "print(max_sum)"
   ]
  }
 ],
 "metadata": {
  "kernelspec": {
   "display_name": "Python 3",
   "language": "python",
   "name": "python3"
  },
  "language_info": {
   "codemirror_mode": {
    "name": "ipython",
    "version": 3
   },
   "file_extension": ".py",
   "mimetype": "text/x-python",
   "name": "python",
   "nbconvert_exporter": "python",
   "pygments_lexer": "ipython3",
   "version": "3.8.3"
  }
 },
 "nbformat": 4,
 "nbformat_minor": 4
}
