{
 "cells": [
  {
   "cell_type": "code",
   "execution_count": 8,
   "metadata": {
    "scrolled": false
   },
   "outputs": [
    {
     "name": "stdout",
     "output_type": "stream",
     "text": [
      "10 500\n",
      "93 181 245 214 315 36 185 138 216 295\n",
      "488\n",
      "310\n",
      "459\n",
      "412\n",
      "490\n",
      "374\n",
      "476\n",
      "343\n",
      "492\n",
      "445\n",
      "444\n",
      "314\n",
      "267\n",
      "345\n",
      "424\n",
      "416\n",
      "494\n",
      "447\n",
      "462\n",
      "431\n",
      "402\n",
      "355\n",
      "433\n",
      "495\n",
      "466\n",
      "419\n",
      "497\n",
      "435\n",
      "388\n",
      "466\n",
      "489\n",
      "359\n",
      "437\n",
      "390\n",
      "469\n",
      "469\n"
     ]
    }
   ],
   "source": [
    "# 5 21\n",
    "# 5 6 7 8 9\n",
    "\n",
    "# 10 500\n",
    "# 93 181 245 214 315 36 185 138 216 295\n",
    "\n",
    "n, m = map(int,input().split())\n",
    "num_list = list(map(int, input().split()))\n",
    "\n",
    "sum = 0\n",
    "max_sum = 0\n",
    "for i in range(0, n):\n",
    "    for j in range(i+1, n):\n",
    "        for k in range(j+1, n):\n",
    "            sum = num_list[i] + num_list[j] + num_list[k]\n",
    "            if sum <= 0 && max:\n",
    "                max_sum = sum\n",
    "                print(max_sum)\n",
    "print(max_sum)"
   ]
  }
 ],
 "metadata": {
  "kernelspec": {
   "display_name": "Python 3",
   "language": "python",
   "name": "python3"
  },
  "language_info": {
   "codemirror_mode": {
    "name": "ipython",
    "version": 3
   },
   "file_extension": ".py",
   "mimetype": "text/x-python",
   "name": "python",
   "nbconvert_exporter": "python",
   "pygments_lexer": "ipython3",
   "version": "3.8.3"
  }
 },
 "nbformat": 4,
 "nbformat_minor": 4
}
