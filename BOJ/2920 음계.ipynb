{
 "cells": [
  {
   "cell_type": "code",
   "execution_count": 13,
   "metadata": {},
   "outputs": [
    {
     "name": "stdout",
     "output_type": "stream",
     "text": [
      "8 1 7 2 6 3 5 4\n",
      "mixed\n"
     ]
    }
   ],
   "source": [
    "num_list = list(map(int, input().split()))\n",
    "\n",
    "up_count = 0\n",
    "down_count = 0\n",
    "for index in range(len(num_list)-1):\n",
    "    if num_list[index] < num_list[index+1]:\n",
    "        up_count += 1\n",
    "    elif num_list[index] > num_list[index+1]:\n",
    "        down_count += 1\n",
    "if up_count == 7:\n",
    "    print('ascending')\n",
    "elif down_count == 7:\n",
    "    print('descending')\n",
    "else:\n",
    "    print('mixed')"
   ]
  }
 ],
 "metadata": {
  "kernelspec": {
   "display_name": "Python 3",
   "language": "python",
   "name": "python3"
  },
  "language_info": {
   "codemirror_mode": {
    "name": "ipython",
    "version": 3
   },
   "file_extension": ".py",
   "mimetype": "text/x-python",
   "name": "python",
   "nbconvert_exporter": "python",
   "pygments_lexer": "ipython3",
   "version": "3.8.3"
  }
 },
 "nbformat": 4,
 "nbformat_minor": 4
}
