{
 "cells": [
  {
   "cell_type": "code",
   "execution_count": 9,
   "metadata": {},
   "outputs": [
    {
     "name": "stdout",
     "output_type": "stream",
     "text": [
      "2\n",
      "algorithm\n",
      "1\n"
     ]
    }
   ],
   "source": [
    "# Queue 라이브러리 \n",
    "import queue\n",
    "\n",
    "data_queue = queue.Queue()\n",
    "\n",
    "data_queue.put(\"algorithm\")\n",
    "data_queue.put(1)\n",
    "\n",
    "print(data_queue.qsize())\n",
    "\n",
    "print(data_queue.get())\n",
    "\n",
    "print(data_queue.qsize())"
   ]
  },
  {
   "cell_type": "code",
   "execution_count": 12,
   "metadata": {},
   "outputs": [
    {
     "name": "stdout",
     "output_type": "stream",
     "text": [
      "2\n",
      "1\n"
     ]
    }
   ],
   "source": [
    "# LifoQueue 사용 == stack\n",
    "\n",
    "data_queue = queue.LifoQueue()\n",
    "\n",
    "data_queue.put(\"funcoding\")\n",
    "data_queue.put(1)\n",
    "\n",
    "print(data_queue.qsize())\n",
    "print(data_queue.get())"
   ]
  },
  {
   "cell_type": "code",
   "execution_count": 15,
   "metadata": {},
   "outputs": [
    {
     "name": "stdout",
     "output_type": "stream",
     "text": [
      "3\n",
      "(5, 1)\n",
      "(10, 'korea')\n"
     ]
    }
   ],
   "source": [
    "# PriorityQueue 사용\n",
    "\n",
    "data_queue = queue.PriorityQueue()\n",
    "\n",
    "data_queue.put((10, 'korea'))\n",
    "data_queue.put((5, 1))\n",
    "data_queue.put((15, 'china'))\n",
    "\n",
    "print(data_queue.qsize())\n",
    "print(data_queue.get())\n",
    "print(data_queue.get())"
   ]
  },
  {
   "cell_type": "code",
   "execution_count": 21,
   "metadata": {},
   "outputs": [
    {
     "name": "stdout",
     "output_type": "stream",
     "text": [
      "20\n",
      "0\n",
      "19\n",
      "1\n",
      "18\n"
     ]
    }
   ],
   "source": [
    "# queue 직접 만들어보기\n",
    "\n",
    "queue_list = list()\n",
    "\n",
    "def enqueue(data):\n",
    "    queue_list.append(data)\n",
    "    \n",
    "def dequeue():\n",
    "    data = queue_list[0]\n",
    "    del queue_list[0]\n",
    "    return data\n",
    "\n",
    "\n",
    "for index in range(20):\n",
    "    enqueue(index)\n",
    "\n",
    "print(len(queue_list))\n",
    "print(dequeue())\n",
    "\n",
    "print(len(queue_list))\n",
    "print(dequeue())\n",
    "\n",
    "print(len(queue_list))"
   ]
  }
 ],
 "metadata": {
  "kernelspec": {
   "display_name": "Python 3",
   "language": "python",
   "name": "python3"
  },
  "language_info": {
   "codemirror_mode": {
    "name": "ipython",
    "version": 3
   },
   "file_extension": ".py",
   "mimetype": "text/x-python",
   "name": "python",
   "nbconvert_exporter": "python",
   "pygments_lexer": "ipython3",
   "version": "3.8.3"
  }
 },
 "nbformat": 4,
 "nbformat_minor": 4
}
