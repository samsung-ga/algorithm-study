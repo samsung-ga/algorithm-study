{
 "cells": [
  {
   "cell_type": "code",
   "execution_count": 3,
   "metadata": {},
   "outputs": [
    {
     "name": "stdout",
     "output_type": "stream",
     "text": [
      "US\n",
      "USA\n"
     ]
    }
   ],
   "source": [
    "country = 'US'\n",
    "print(country)\n",
    "\n",
    "country = country + 'A'\n",
    "print(country)"
   ]
  },
  {
   "cell_type": "code",
   "execution_count": 4,
   "metadata": {},
   "outputs": [
    {
     "name": "stdout",
     "output_type": "stream",
     "text": [
      "[1, 2, 3, 4, 5]\n"
     ]
    }
   ],
   "source": [
    "# 배열은 리스트로 활용\n",
    "# 1차원 배열\n",
    "data = [1,2,3,4,5]\n",
    "print(data)"
   ]
  },
  {
   "cell_type": "code",
   "execution_count": 7,
   "metadata": {},
   "outputs": [
    {
     "name": "stdout",
     "output_type": "stream",
     "text": [
      "9\n",
      "8\n",
      "7\n",
      "9 8 7\n"
     ]
    }
   ],
   "source": [
    "#### Pratice: 9,8,7 출력해보기\n",
    "\n",
    "data = [[1,2,3],[4,5,6],[7,8,9]]\n",
    "print(data[2][2])\n",
    "print(data[2][1])\n",
    "print(data[2][0])\n",
    "print(data[2][2], data[2][1], data[2][0])"
   ]
  },
  {
   "cell_type": "code",
   "execution_count": 10,
   "metadata": {},
   "outputs": [
    {
     "name": "stdout",
     "output_type": "stream",
     "text": [
      "38\n"
     ]
    }
   ],
   "source": [
    "##### dataset 내에 M 몇 번 나왔는지 출력해보기\n",
    "\n",
    "dataset = ['Braund, Mr. Owen Harris',\n",
    "'Cumings, Mrs. John Bradley (Florence Briggs Thayer)',\n",
    "'Heikkinen, Miss. Laina',\n",
    "'Futrelle, Mrs. Jacques Heath (Lily May Peel)',\n",
    "'Allen, Mr. William Henry',\n",
    "'Moran, Mr. James',\n",
    "'McCarthy, Mr. Timothy J',\n",
    "'Palsson, Master. Gosta Leonard',\n",
    "'Johnson, Mrs. Oscar W (Elisabeth Vilhelmina Berg)',\n",
    "'Nasser, Mrs. Nicholas (Adele Achem)',\n",
    "'Sandstrom, Miss. Marguerite Rut',\n",
    "'Bonnell, Miss. Elizabeth',\n",
    "'Saundercock, Mr. William Henry',\n",
    "'Andersson, Mr. Anders Johan',\n",
    "'Vestrom, Miss. Hulda Amanda Adolfina',\n",
    "'Hewlett, Mrs. (Mary D Kingcome) ',\n",
    "'Rice, Master. Eugene',\n",
    "'Williams, Mr. Charles Eugene',\n",
    "'Vander Planke, Mrs. Julius (Emelia Maria Vandemoortele)',\n",
    "'Masselmani, Mrs. Fatima',\n",
    "'Fynney, Mr. Joseph J',\n",
    "'Beesley, Mr. Lawrence',\n",
    "'McGowan, Miss. Anna \"Annie\"',\n",
    "'Sloper, Mr. William Thompson',\n",
    "'Palsson, Miss. Torborg Danira',\n",
    "'Asplund, Mrs. Carl Oscar (Selma Augusta Emilia Johansson)',\n",
    "'Emir, Mr. Farred Chehab',\n",
    "'Fortune, Mr. Charles Alexander',\n",
    "'Dwyer, Miss. Ellen \"Nellie\"',\n",
    "'Todoroff, Mr. Lalio']\n",
    "\n",
    "m_count = 0\n",
    "for data in dataset:\n",
    "    for index in range(len(data)):\n",
    "        if data[index] == 'M':\n",
    "            m_count += 1\n",
    "print(m_count)"
   ]
  }
 ],
 "metadata": {
  "kernelspec": {
   "display_name": "Python 3",
   "language": "python",
   "name": "python3"
  },
  "language_info": {
   "codemirror_mode": {
    "name": "ipython",
    "version": 3
   },
   "file_extension": ".py",
   "mimetype": "text/x-python",
   "name": "python",
   "nbconvert_exporter": "python",
   "pygments_lexer": "ipython3",
   "version": "3.8.3"
  }
 },
 "nbformat": 4,
 "nbformat_minor": 4
}
